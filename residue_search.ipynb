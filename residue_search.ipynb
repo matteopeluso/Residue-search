{
 "cells": [
  {
   "cell_type": "markdown",
   "metadata": {},
   "source": [
    "## Residue Search Procedure\n",
    "### Matteo Peluso, Doctoral Researcher Methods and Models for Molecular Sciences\n",
    "#### email: matteo.peluso@sns.it\n",
    "\n",
    "\n",
    "Description:\n",
    "\n",
    "       Procedure to evaluate the search of the quadrilateral structure defined \n",
    "       by the 4 residues of the 2fql.db --->  (89, 101, 103, 112)\n",
    "\n"
   ]
  },
  {
   "cell_type": "code",
   "execution_count": null,
   "metadata": {},
   "outputs": [],
   "source": [
    "from res_module import *\n",
    "\n",
    "## Initial values for the search\n",
    "initial_params = {}\n",
    "\n",
    "\n",
    "initial_params['aminoacid_1'] = \"GLU\"\n",
    "initial_params['aminoacid_2'] = \"ASP\"\n",
    "initial_params['thr_glu_asp'] = 9        # Threshold for Glu close to ASP (distance < thr_glu_asp)\n",
    "initial_params['thr_glu_glu'] = [3,12]   # Threshold for Glu close to Glu (thr_glu_glu[0] < distance < thr_glu_glu[1]) \n",
    "initial_params['thr_clos_id'] = 3        # Max Resid difference ( if resid 164 and 165 in list remove them) \n",
    "\n",
    "initial_params['pdb_path']    = \"/home/matteo/Scrivania/pastore/cold_frataxin/Residue-search/data\"\n",
    "initial_params['out_path']    = \"/home/matteo/Scrivania/pastore/cold_frataxin/Residue-search/\"\n",
    "\n",
    "start_time = timeit.default_timer()\n",
    "\n",
    "walk_QUADDEATH_PDB(initial_params)\n",
    "\n",
    "end_time = timeit.default_timer()\n",
    "print(\"Elapsed time: {:.2f} seconds\".format(end_time - start_time))"
   ]
  }
 ],
 "metadata": {
  "kernelspec": {
   "display_name": "Python 3",
   "language": "python",
   "name": "python3"
  },
  "language_info": {
   "codemirror_mode": {
    "name": "ipython",
    "version": 3
   },
   "file_extension": ".py",
   "mimetype": "text/x-python",
   "name": "python",
   "nbconvert_exporter": "python",
   "pygments_lexer": "ipython3",
   "version": "3.7.1"
  }
 },
 "nbformat": 4,
 "nbformat_minor": 2
}
